{
 "cells": [
  {
   "cell_type": "markdown",
   "metadata": {},
   "source": [
    "Робота Троцько Крістіни (V=26)"
   ]
  },
  {
   "cell_type": "code",
   "execution_count": 1,
   "metadata": {},
   "outputs": [],
   "source": [
    "import numpy as np"
   ]
  },
  {
   "cell_type": "markdown",
   "metadata": {},
   "source": [
    "__Початкові дані:__\n",
    "\n",
    "Маємо на вході розподіл ймовірностей _p(X)_ для ДДІ X, що передає інформацію, \n",
    "\n",
    "а також _s\\_YX_ -- канальну матрицю P(Y|X)"
   ]
  },
  {
   "cell_type": "code",
   "execution_count": 2,
   "metadata": {},
   "outputs": [],
   "source": [
    "alphabet = ['0','1','2','3','4','5','6','7','8','9','A','B','C','D','E','F']\n",
    "p_X = np.array([0.03, 0.12, 0.01, 0.01, 0.03, 0.29, 0.05, 0.09, 0.08,\\\n",
    "              0.07, 0.07, 0.05, 0.04, 0.03, 0.02, 0.01]).reshape((1, -1))"
   ]
  },
  {
   "cell_type": "code",
   "execution_count": 3,
   "metadata": {},
   "outputs": [],
   "source": [
    "s_YX = np.array(\\\n",
    "      [[0.97, 0.02, 0.01, 0., 0., 0., 0., 0., 0., 0., 0., 0., 0., 0., 0., 0.],\n",
    "       [0.02, 0.95, 0.02, 0.01, 0., 0., 0., 0., 0., 0., 0., 0., 0., 0., 0., 0.],\n",
    "       [0., 0.01, 0.98, 0.01, 0., 0., 0., 0., 0., 0., 0., 0., 0., 0., 0., 0.],\n",
    "       [0., 0.01, 0.02, 0.94, 0.02, 0.01, 0., 0., 0., 0., 0., 0., 0., 0., 0., 0.],\n",
    "       [0., 0., 0., 0.01, 0.98, 0.01, 0., 0., 0., 0., 0., 0., 0., 0., 0., 0.],\n",
    "       [0., 0., 0., 0.01, 0.01, 0.96, 0.01, 0.01, 0., 0., 0., 0., 0., 0., 0., 0.],\n",
    "       [0., 0., 0., 0., 0.01, 0.02, 0.94, 0.02, 0.01, 0., 0., 0., 0., 0., 0., 0.],\n",
    "       [0., 0., 0., 0., 0., 0., 0.02, 0.96, 0.02, 0., 0., 0., 0., 0., 0., 0.],\n",
    "       [0., 0., 0., 0., 0., 0., 0., 0.01, 0.98, 0.01, 0., 0., 0., 0., 0., 0.],\n",
    "       [0., 0., 0., 0., 0., 0., 0., 0.01, 0.01, 0.96, 0.01, 0.01, 0., 0., 0., 0.],\n",
    "       [0., 0., 0., 0., 0., 0., 0., 0., 0.01, 0.01, 0.96, 0.01, 0.01, 0., 0., 0.],\n",
    "       [0., 0., 0., 0., 0., 0., 0., 0., 0., 0.01, 0.01, 0.95, 0.02, 0.01, 0., 0.],\n",
    "       [0., 0., 0., 0., 0., 0., 0., 0., 0., 0., 0., 0.02, 0.96, 0.02, 0., 0.],\n",
    "       [0., 0., 0., 0., 0., 0., 0., 0., 0., 0., 0., 0.01, 0.02, 0.94, 0.02, 0.01],\n",
    "       [0., 0., 0., 0., 0., 0., 0., 0., 0., 0., 0., 0., 0.01, 0.02, 0.95, 0.02],\n",
    "       [0., 0., 0., 0., 0., 0., 0., 0., 0., 0., 0., 0., 0., 0.01, 0.03, 0.96]])"
   ]
  },
  {
   "cell_type": "markdown",
   "metadata": {},
   "source": [
    "# Ентропія\n",
    "\n",
    "$$H(X) = -\\sum_{i = 1}^{n} p(x_i) \\log_2 p(x_i) = - p(x_1) \\log_2 p(x_1) - p(x_2) \\log_2 p(x_2) - \\dots - p(x_n) \\log_2 p(x_n) $$"
   ]
  },
  {
   "cell_type": "code",
   "execution_count": 4,
   "metadata": {},
   "outputs": [],
   "source": [
    "def entropy(probs):\n",
    "    return -np.sum(probs * np.log2(probs))   "
   ]
  },
  {
   "cell_type": "code",
   "execution_count": 5,
   "metadata": {},
   "outputs": [
    {
     "name": "stdout",
     "output_type": "stream",
     "text": [
      "Ентропія X:  3.411683827329677\n"
     ]
    }
   ],
   "source": [
    "H_X = entropy(p_X)\n",
    "print(\"Ентропія X: \", H_X)"
   ]
  },
  {
   "cell_type": "markdown",
   "metadata": {},
   "source": [
    "Щоб знайти ентропію приймача інформації, необхідно спочатку знайти ймовірності появи символів на вході приймача _p\\_Y_.\n",
    "\n",
    "Це можна зробити декількома способами, наприклад:\n",
    "$$P(Y) = (p(y_1), \\dots, p(y_m)) = (p(x_1), \\dots, p(x_n)) * \n",
    "\\begin{pmatrix}\n",
    "p(y_1 | x_1) & p(y_2 | x_1) & \\cdots & p(y_m | x_1) \\\\\n",
    "p(y_1 | x_2) & p(y_2 | x_2) & \\cdots & p(y_m | x_2) \\\\\n",
    "\\vdots  & \\vdots  & \\ddots & \\vdots  \\\\\n",
    "p(y_1 | x_n) & p(y_2 | x_n) & \\cdots & p(y_m | x_n)\n",
    "\\end{pmatrix}$$\n",
    "\n",
    "Втім, для подальших розрахунків буде зручніше спочатку знайти матрицю маргінальних розподілів: \n",
    "\n",
    "$$P(X, Y) = \\begin{pmatrix}\n",
    "p(x_1, y_1)  & \\cdots & p(x_1, y_m) \\\\\n",
    "p(x_2, y_1)  & \\cdots & p(x_2, y_m) \\\\\n",
    "\\vdots & \\ddots & \\vdots  \\\\\n",
    "p(x_n, y_1) & \\cdots & p(x_n, y_m)\n",
    "\\end{pmatrix} = \n",
    "\\begin{pmatrix}\n",
    " p(x_1) p(y_1 | x_1) &\\cdots &  p(x_1) p(y_m | x_1) \\\\\n",
    " p(x_2) p(y_1 | x_2) & \\cdots & p(x_2) p(y_m | x_2)\\\\\n",
    "\\vdots  & \\ddots & \\vdots  \\\\\n",
    " p(x_n) p(y_1 | x_n) & \\cdots &  p(x_n) p(y_m | x_n)\n",
    "\\end{pmatrix}$$\n",
    "\n",
    "Тоді розподіл _p(Y)_ отримається як суми в стовпчиках отриманої матриці\n",
    "\n",
    "(розподіл _p(X)_ - сума по рядках отриманої матриці)"
   ]
  },
  {
   "cell_type": "code",
   "execution_count": 6,
   "metadata": {},
   "outputs": [],
   "source": [
    "# значення в першому рядкау поелементно множаться на p(x1), в другому - на p(x2), і т.д.\n",
    "p_XY = s_YX * p_X.transpose() "
   ]
  },
  {
   "cell_type": "code",
   "execution_count": 7,
   "metadata": {},
   "outputs": [
    {
     "name": "stdout",
     "output_type": "stream",
     "text": [
      "P(Y) =  [0.0315 0.1148 0.0127 0.0139 0.033  0.2798 0.0517 0.0918 0.0821 0.0692\n",
      " 0.0684 0.05   0.0409 0.03   0.0199 0.0103]\n",
      "Сумарна ймовірність P(Y):  1.0000000000000002\n"
     ]
    }
   ],
   "source": [
    "p_Y = np.sum(p_XY, axis=0)  # сума, що рахується по стовпчиках\n",
    "print(\"P(Y) = \", p_Y)\n",
    "print(\"Сумарна ймовірність P(Y): \", sum(p_Y))"
   ]
  },
  {
   "cell_type": "code",
   "execution_count": 8,
   "metadata": {},
   "outputs": [
    {
     "name": "stdout",
     "output_type": "stream",
     "text": [
      "Ентропія Y:  3.4595174873358197\n"
     ]
    }
   ],
   "source": [
    "H_Y = entropy(p_Y)\n",
    "print(\"Ентропія Y: \", H_Y)"
   ]
  },
  {
   "cell_type": "markdown",
   "metadata": {},
   "source": [
    "# Умовна ентропія\n",
    "\n",
    "$$P(Y|X) = - \\sum_{i=1}^{n} \\sum_{j=1}^{m} p(x_i) p(y_j|x_i) \\log_2 p(y_j|x_i)\n",
    "= - \\sum_{i=1}^{n} \\sum_{j=1}^{m} p(x_i, y_j) \\log_2 p(y_j|x_i)$$"
   ]
  },
  {
   "cell_type": "code",
   "execution_count": 9,
   "metadata": {},
   "outputs": [],
   "source": [
    "# елементи двох матриць множаться поелементно\n",
    "# np.log2(s + 1e-20) містить доданок 1e-20, задля уникнення невизначеності, оскільки log2(0) не існує\n",
    "def conditional_entropy(p, s):\n",
    "    return - np.sum(p * np.log2(s + 1e-20))"
   ]
  },
  {
   "cell_type": "code",
   "execution_count": 10,
   "metadata": {},
   "outputs": [
    {
     "name": "stdout",
     "output_type": "stream",
     "text": [
      "Загальна умовна ентропія H(Y|X) =  0.3137647250986336\n"
     ]
    }
   ],
   "source": [
    "CH_YX = conditional_entropy(p_XY, s_YX)\n",
    "print(\"Загальна умовна ентропія H(Y|X) = \", CH_YX)"
   ]
  },
  {
   "cell_type": "markdown",
   "metadata": {},
   "source": [
    "Знайдемо канальну матрицю P(X|Y):\n",
    "$$p(x_i|y_j) = \\frac{p(x_i, y_j)}{p(y_j)} \\Rightarrow P(X|Y) = \\begin{pmatrix}\n",
    "\\frac{p(x_1, y_1)}{p(y_1)}  & \\cdots & \\frac{p(x_1, y_m)}{p(y_m)} \\\\\n",
    "\\frac{p(x_2, y_1)}{p(y_1)}  & \\cdots & \\frac{p(x_2, y_m)}{p(y_m)} \\\\\n",
    "\\vdots & \\ddots & \\vdots  \\\\\n",
    "\\frac{p(x_n, y_1)}{p(y_1)} & \\cdots & \\frac{p(x_n, y_m)}{p(y_m)}\n",
    "\\end{pmatrix}\n",
    "$$"
   ]
  },
  {
   "cell_type": "code",
   "execution_count": 11,
   "metadata": {},
   "outputs": [],
   "source": [
    "s_XY = p_XY / p_Y"
   ]
  },
  {
   "cell_type": "code",
   "execution_count": 12,
   "metadata": {},
   "outputs": [
    {
     "name": "stdout",
     "output_type": "stream",
     "text": [
      "Загальна умовна ентропія H(X|Y) =  0.26593106509249104\n"
     ]
    }
   ],
   "source": [
    "CH_XY = conditional_entropy(p_XY, s_XY)\n",
    "print(\"Загальна умовна ентропія H(X|Y) = \", CH_XY)"
   ]
  },
  {
   "cell_type": "code",
   "execution_count": 13,
   "metadata": {},
   "outputs": [
    {
     "data": {
      "text/plain": [
       "(3.7254485524283107, 3.7254485524283103)"
      ]
     },
     "execution_count": 13,
     "metadata": {},
     "output_type": "execute_result"
    }
   ],
   "source": [
    "CH_XY + H_Y, CH_YX + H_X"
   ]
  },
  {
   "cell_type": "markdown",
   "metadata": {},
   "source": [
    "# Швидкість передачі інформаціі та пропускна здатність\n",
    "\n",
    "V = 26, n = 16\n",
    "\n",
    "Швидкість передачі інформації: $C = k_0 (H(Y) - H(Y|X))$, де $k_0$ - кількість символів що передається за одиницю часу\n",
    "\n",
    "Пропускна здатність каналу: $C_n = k_0 (\\log_2(n) - H(Y|X))$, де $\\log_2(n)$ - максимальна можлива ентропія"
   ]
  },
  {
   "cell_type": "code",
   "execution_count": 14,
   "metadata": {},
   "outputs": [],
   "source": [
    "V = 26\n",
    "n = 16"
   ]
  },
  {
   "cell_type": "code",
   "execution_count": 16,
   "metadata": {},
   "outputs": [
    {
     "name": "stdout",
     "output_type": "stream",
     "text": [
      "За одиницю чвсу передається 769.2307692307692 символів\n"
     ]
    }
   ],
   "source": [
    "k0 = 1 / (0.05 * V * 0.001)\n",
    "print(\"За одиницю чвсу передається {} символів\".format(k0))"
   ]
  },
  {
   "cell_type": "code",
   "execution_count": 17,
   "metadata": {},
   "outputs": [
    {
     "name": "stdout",
     "output_type": "stream",
     "text": [
      "Швидкість передачі інформації - 2419.8098171055276 біт/с\n"
     ]
    }
   ],
   "source": [
    "C = k0 * (H_Y - CH_YX)\n",
    "print(\"Швидкість передачі інформації - {} біт/с\".format(C))"
   ]
  },
  {
   "cell_type": "code",
   "execution_count": 18,
   "metadata": {},
   "outputs": [
    {
     "name": "stdout",
     "output_type": "stream",
     "text": [
      "Пропускна спроможність каналу зв'язку - 2835.565596077974 біт/с\n"
     ]
    }
   ],
   "source": [
    "C_n = k0 * (np.log2(n) - CH_YX)\n",
    "print(\"Пропускна спроможність каналу зв'язку - {} біт/с\".format(C_n))"
   ]
  },
  {
   "cell_type": "markdown",
   "metadata": {},
   "source": [
    "# Втрати інформації при передачі k символів та середня кількість прийнятої інформації\n",
    "\n",
    "$\\Delta I = k H(Y|X)$\n",
    "\n",
    "$I = k (H(Y) - H(Y|X))$, де $H(Y|X)$ - середня втрата на одному символі"
   ]
  },
  {
   "cell_type": "code",
   "execution_count": 22,
   "metadata": {},
   "outputs": [],
   "source": [
    "k = 100 * V"
   ]
  },
  {
   "cell_type": "code",
   "execution_count": 25,
   "metadata": {},
   "outputs": [
    {
     "name": "stdout",
     "output_type": "stream",
     "text": [
      "При передачі 2600 символів втрачається 815.7882852564475 біт, а приймається в середньому 8178.957181816684 біт інформації\n"
     ]
    }
   ],
   "source": [
    "delta_I = k * CH_YX\n",
    "I = k * (H_Y - CH_YX)\n",
    "print(\"При передачі {} символів втрачається {} біт, а приймається в середньому {} біт інформації\".format(k, delta_I, I))"
   ]
  }
 ],
 "metadata": {
  "kernelspec": {
   "display_name": "Python 3",
   "language": "python",
   "name": "python3"
  },
  "language_info": {
   "codemirror_mode": {
    "name": "ipython",
    "version": 3
   },
   "file_extension": ".py",
   "mimetype": "text/x-python",
   "name": "python",
   "nbconvert_exporter": "python",
   "pygments_lexer": "ipython3",
   "version": "3.7.4"
  }
 },
 "nbformat": 4,
 "nbformat_minor": 2
}
