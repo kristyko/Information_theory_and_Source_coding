{
 "cells": [
  {
   "cell_type": "markdown",
   "metadata": {},
   "source": [
    "# Lab 2"
   ]
  },
  {
   "cell_type": "code",
   "execution_count": 1,
   "metadata": {},
   "outputs": [],
   "source": [
    "import numpy as np"
   ]
  },
  {
   "cell_type": "code",
   "execution_count": 60,
   "metadata": {
    "scrolled": true
   },
   "outputs": [],
   "source": [
    "def split_to_halves(p):\n",
    "    sum_prob_half = sum(p) / 2\n",
    "    i, left_sum = 1, p[0]\n",
    "    while left_sum < sum_prob_half:\n",
    "        left_sum += p[i]\n",
    "        i += 1\n",
    "    return i\n",
    "\n",
    "def shannon_fano_encode(p, l=0, r=None):\n",
    "    if r is None: \n",
    "        r = len(p)\n",
    "    if r - l == 1:\n",
    "        return p[l]\n",
    "    elif r - l == 2:\n",
    "        return {0: p[l], 1: p[r-1]}\n",
    "    \n",
    "    i = l + split_to_halves(p[l:r])\n",
    "    return {0: shannon_fano_encode(p, l, i),\n",
    "            1: shannon_fano_encode(p, i, r)}\n"
   ]
  },
  {
   "cell_type": "code",
   "execution_count": 61,
   "metadata": {},
   "outputs": [
    {
     "data": {
      "text/plain": [
       "{0: 0.5625, 1: {0: {0: 0.1875, 1: 0.1875}, 1: 0.0625}}"
      ]
     },
     "execution_count": 61,
     "metadata": {},
     "output_type": "execute_result"
    }
   ],
   "source": [
    "prob = [1/16, 3/16, 3/16, 9/16]\n",
    "prob = sorted(prob, reverse=True)\n",
    "shannon_fano_encode(prob)"
   ]
  },
  {
   "cell_type": "code",
   "execution_count": 62,
   "metadata": {},
   "outputs": [
    {
     "data": {
      "text/plain": [
       "{0: {0: {0: 0.125, 1: 0.125}, 1: {0: 0.125, 1: 0.125}},\n",
       " 1: {0: {0: 0.125, 1: 0.125}, 1: {0: 0.125, 1: 0.125}}}"
      ]
     },
     "execution_count": 62,
     "metadata": {},
     "output_type": "execute_result"
    }
   ],
   "source": [
    "p1 = [1/8, 1/8, 1/8, 1/8, 1/8, 1/8, 1/8, 1/8]\n",
    "shannon_fano_encode(p1)"
   ]
  },
  {
   "cell_type": "code",
   "execution_count": 39,
   "metadata": {},
   "outputs": [],
   "source": [
    "def huffman(probs):\n",
    "    \"\"\"\n",
    "    :param probs: list of probabilities\n",
    "    \"\"\"\n",
    "    assert np.allclose(np.sum(probs), 1), 'Probabilities does not sum up to 1'\n",
    "    for i in range(len(probs)):\n",
    "        probs[i] = (probs[i], chr(97 + i), dict())\n",
    "    \n",
    "    while len(probs) > 1:\n",
    "        probs.sort()\n",
    "        \n",
    "        (a_prob, a, a_tree), (b_prob, b, b_tree) = probs[:2]\n",
    "        ab_prob = a_prob + b_prob\n",
    "        ab = a + b\n",
    "        ab_tree = dict()\n",
    "        \n",
    "        if len(a_tree) == 0:\n",
    "            ab_tree[0] = a\n",
    "        else:\n",
    "            ab_tree[0] = a_tree\n",
    "        \n",
    "        if len(b_tree) == 0:\n",
    "            ab_tree[1] = b\n",
    "        else:\n",
    "            ab_tree[1] = b_tree\n",
    "        \n",
    "        probs.pop(0)\n",
    "        probs.pop(0)\n",
    "        \n",
    "        probs.append((ab_prob, ab, ab_tree))\n",
    "        \n",
    "    return probs[0][-1]"
   ]
  },
  {
   "cell_type": "code",
   "execution_count": 56,
   "metadata": {},
   "outputs": [],
   "source": [
    "def retrieve_words(prefix_tree):\n",
    "    code_word = ''\n",
    "    word_dict = dict()\n",
    "    def _retrieve_words(prefix_tree, code_word, word_dict):\n",
    "        try:\n",
    "            left, right = prefix_tree[0], prefix_tree[1]\n",
    "            if type(left) == str:\n",
    "                word_dict[left] = code_word + \"0\"\n",
    "            else:\n",
    "                _retrieve_words(left, code_word + \"0\", word_dict)\n",
    "\n",
    "            if type(right) == str:\n",
    "                word_dict[right] = code_word + \"1\"\n",
    "            else:\n",
    "                _retrieve_words(right, code_word + \"1\", word_dict)\n",
    "\n",
    "            return word_dict\n",
    "        except Exception as e:\n",
    "            print('Exception: {}'.format(e))\n",
    "    \n",
    "    return _retrieve_words(prefix_tree, code_word, word_dict)"
   ]
  },
  {
   "cell_type": "code",
   "execution_count": 57,
   "metadata": {},
   "outputs": [
    {
     "data": {
      "text/plain": [
       "{0: 'd', 1: {0: 'c', 1: {0: 'a', 1: 'b'}}}"
      ]
     },
     "execution_count": 57,
     "metadata": {},
     "output_type": "execute_result"
    }
   ],
   "source": [
    "prefix_tree = huffman([0.1, 0.2, 0.3, 0.4])\n",
    "prefix_tree"
   ]
  },
  {
   "cell_type": "code",
   "execution_count": 58,
   "metadata": {},
   "outputs": [
    {
     "data": {
      "text/plain": [
       "{'d': '0', 'c': '10', 'a': '110', 'b': '111'}"
      ]
     },
     "execution_count": 58,
     "metadata": {},
     "output_type": "execute_result"
    }
   ],
   "source": [
    "retrieve_words(prefix_tree)"
   ]
  },
  {
   "cell_type": "markdown",
   "metadata": {},
   "source": [
    "# Test"
   ]
  },
  {
   "cell_type": "markdown",
   "metadata": {},
   "source": [
    "## Test 1: lab 1, variant 26 (and 20)"
   ]
  },
  {
   "cell_type": "code",
   "execution_count": 59,
   "metadata": {},
   "outputs": [
    {
     "name": "stdout",
     "output_type": "stream",
     "text": [
      "{0: {0: {0: 'h', 1: {0: 'g', 1: 'l'}}, 1: {0: {0: {0: 'o', 1: 'a'}, 1: {0: 'e', 1: 'n'}}, 1: 'b'}}, 1: {0: 'f', 1: {0: {0: 'j', 1: 'k'}, 1: {0: {0: {0: 'p', 1: {0: 'c', 1: 'd'}}, 1: 'm'}, 1: 'i'}}}}\n"
     ]
    }
   ],
   "source": [
    "probs = [0.03, 0.12, 0.01, 0.01, 0.03, 0.29, 0.05, 0.09, 0.08, 0.07, 0.07, 0.05, 0.04, 0.03, 0.02, 0.01]\n",
    "prefix_tree = huffman(probs)\n",
    "print(prefix_tree)"
   ]
  },
  {
   "cell_type": "code",
   "execution_count": 61,
   "metadata": {},
   "outputs": [
    {
     "data": {
      "text/plain": [
       "{'h': '000',\n",
       " 'g': '0010',\n",
       " 'l': '0011',\n",
       " 'o': '01000',\n",
       " 'a': '01001',\n",
       " 'e': '01010',\n",
       " 'n': '01011',\n",
       " 'b': '011',\n",
       " 'f': '10',\n",
       " 'j': '1100',\n",
       " 'k': '1101',\n",
       " 'p': '111000',\n",
       " 'c': '1110010',\n",
       " 'd': '1110011',\n",
       " 'm': '11101',\n",
       " 'i': '1111'}"
      ]
     },
     "execution_count": 61,
     "metadata": {},
     "output_type": "execute_result"
    }
   ],
   "source": [
    "retrieve_words(prefix_tree)"
   ]
  },
  {
   "cell_type": "markdown",
   "metadata": {},
   "source": [
    "## Test 2: lecture 4"
   ]
  },
  {
   "cell_type": "code",
   "execution_count": 62,
   "metadata": {},
   "outputs": [
    {
     "name": "stdout",
     "output_type": "stream",
     "text": [
      "{0: 'd', 1: {0: {0: {0: 'a', 1: 'c'}, 1: 'b'}, 1: {0: 'f', 1: 'e'}}}\n"
     ]
    }
   ],
   "source": [
    "probs = [0.05, 0.15, 0.05, 0.4, 0.2, 0.15]\n",
    "prefix_tree = huffman(probs)\n",
    "print(prefix_tree)"
   ]
  },
  {
   "cell_type": "code",
   "execution_count": 63,
   "metadata": {},
   "outputs": [
    {
     "data": {
      "text/plain": [
       "{'d': '0', 'a': '1000', 'c': '1001', 'b': '101', 'f': '110', 'e': '111'}"
      ]
     },
     "execution_count": 63,
     "metadata": {},
     "output_type": "execute_result"
    }
   ],
   "source": [
    "retrieve_words(prefix_tree)"
   ]
  }
 ],
 "metadata": {
  "kernelspec": {
   "display_name": "Python 3",
   "language": "python",
   "name": "python3"
  },
  "language_info": {
   "codemirror_mode": {
    "name": "ipython",
    "version": 3
   },
   "file_extension": ".py",
   "mimetype": "text/x-python",
   "name": "python",
   "nbconvert_exporter": "python",
   "pygments_lexer": "ipython3",
   "version": "3.9.0"
  }
 },
 "nbformat": 4,
 "nbformat_minor": 2
}
