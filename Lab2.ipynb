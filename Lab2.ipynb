{
 "cells": [
  {
   "cell_type": "code",
   "execution_count": 60,
   "metadata": {
    "scrolled": true
   },
   "outputs": [],
   "source": [
    "def split_to_halves(p):\n",
    "    sum_prob_half = sum(p) / 2\n",
    "    i, left_sum = 1, p[0]\n",
    "    while left_sum < sum_prob_half:\n",
    "        left_sum += p[i]\n",
    "        i += 1\n",
    "    return i\n",
    "\n",
    "def shannon_fano_encode(p, l=0, r=None):\n",
    "    if r is None: \n",
    "        r = len(p)\n",
    "    if r - l == 1:\n",
    "        return p[l]\n",
    "    elif r - l == 2:\n",
    "        return {0: p[l], 1: p[r-1]}\n",
    "    \n",
    "    i = l + split_to_halves(p[l:r])\n",
    "    return {0: shannon_fano_encode(p, l, i),\n",
    "            1: shannon_fano_encode(p, i, r)}\n"
   ]
  },
  {
   "cell_type": "code",
   "execution_count": 61,
   "metadata": {},
   "outputs": [
    {
     "data": {
      "text/plain": [
       "{0: 0.5625, 1: {0: {0: 0.1875, 1: 0.1875}, 1: 0.0625}}"
      ]
     },
     "execution_count": 61,
     "metadata": {},
     "output_type": "execute_result"
    }
   ],
   "source": [
    "prob = [1/16, 3/16, 3/16, 9/16]\n",
    "prob = sorted(prob, reverse=True)\n",
    "shannon_fano_encode(prob)"
   ]
  },
  {
   "cell_type": "code",
   "execution_count": 62,
   "metadata": {},
   "outputs": [
    {
     "data": {
      "text/plain": [
       "{0: {0: {0: 0.125, 1: 0.125}, 1: {0: 0.125, 1: 0.125}},\n",
       " 1: {0: {0: 0.125, 1: 0.125}, 1: {0: 0.125, 1: 0.125}}}"
      ]
     },
     "execution_count": 62,
     "metadata": {},
     "output_type": "execute_result"
    }
   ],
   "source": [
    "p1 = [1/8, 1/8, 1/8, 1/8, 1/8, 1/8, 1/8, 1/8]\n",
    "shannon_fano_encode(p1)"
   ]
  }
 ],
 "metadata": {
  "kernelspec": {
   "display_name": "Python 3",
   "language": "python",
   "name": "python3"
  },
  "language_info": {
   "codemirror_mode": {
    "name": "ipython",
    "version": 3
   },
   "file_extension": ".py",
   "mimetype": "text/x-python",
   "name": "python",
   "nbconvert_exporter": "python",
   "pygments_lexer": "ipython3",
   "version": "3.7.4"
  }
 },
 "nbformat": 4,
 "nbformat_minor": 2
}
